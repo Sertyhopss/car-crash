{
 "cells": [
  {
   "cell_type": "code",
   "execution_count": null,
   "id": "3ddb944a-509c-4945-8006-2e37a08028b8",
   "metadata": {},
   "outputs": [],
   "source": [
    "'''\n",
    "TODO:\n",
    "1. Найти и удалить выбросы\n",
    "2. Нормализовать значения\n",
    "\n",
    "PROBLEMS:\n",
    "1. Наличие освещения -> bool/OHE? Или int, так как есть градация в виде сумерек? \n",
    "2. Схемы - это, конечно, интересно, но что с ними делать?\n",
    "3. Severity -> int?\n",
    "4. Время перевести в минуты?\n",
    "5. нужны ли координаты и регион?\n",
    "\n",
    "Границы СПб:\n",
    "            from        to\n",
    "latitude    59.63       60.24\n",
    "longitude   29.42       30.76\n",
    "'''"
   ]
  },
  {
   "cell_type": "code",
   "execution_count": 3,
   "id": "162eeb5f-b5fb-4972-a033-c4e435f355f4",
   "metadata": {},
   "outputs": [],
   "source": [
    "import matplotlib.pyplot as plt\n",
    "import pandas as pd\n",
    "import numpy as np\n",
    "import seaborn as sns\n",
    "import os\n",
    "from io import StringIO\n",
    "from csv import writer\n",
    "from IPython.display import display, HTML\n",
    "from sklearn.preprocessing import Normalizer"
   ]
  },
  {
   "cell_type": "code",
   "execution_count": 4,
   "id": "9e7c6778-ee00-4570-ad75-c0c7899ef946",
   "metadata": {},
   "outputs": [],
   "source": [
    "# функция для преобразования кода съемы в HTML-код изображения на сервере сайта dtp-stat.ru\n",
    "\n",
    "def path_to_image_html(path):\n",
    "    return '<img src=\"https://dtp-stat.ru/static/scheme/'+ path + '.png\">'"
   ]
  },
  {
   "cell_type": "code",
   "execution_count": 5,
   "id": "8790ae5a-68f8-4c98-b697-4c8bb0764af2",
   "metadata": {},
   "outputs": [],
   "source": [
    "# функция для подготовки One-Hot кодирования столбца, в котором данные имеют вид списков\n",
    "# возвращает набор присутствующих значений и DataFrame-объект закодированной таблицы \n",
    "\n",
    "def one_hot_prepare(datacol):      \n",
    "    ohe_cols = []\n",
    "    for value in datacol.values:\n",
    "        for i in range(len(value)):\n",
    "            if value[i] not in ohe_cols:\n",
    "                ohe_cols.append(value[i])\n",
    "                \n",
    "    res = dict(zip(ohe_cols, [[None]*len(datacol) for _ in ohe_cols]))\n",
    "    \n",
    "    for i, value in enumerate(datacol):\n",
    "        for col in ohe_cols:\n",
    "            if col in value:\n",
    "                res[col][i] = 1\n",
    "            else:\n",
    "                res[col][i] = 0      \n",
    "    return ohe_cols, res\n",
    "    "
   ]
  },
  {
   "cell_type": "code",
   "execution_count": 6,
   "id": "4d3df33f-a68d-4148-9faa-7489d13453a8",
   "metadata": {},
   "outputs": [],
   "source": [
    "# функция для осуществления One-Hot кодирования указанных столбцов в заданной таблице\n",
    "\n",
    "def one_hot_encoding(data, columns):\n",
    "    for column in columns:\n",
    "        ohe_headers, ohe_data = one_hot_prepare(data[column])\n",
    "        for header in ohe_headers:\n",
    "           data[header] = ohe_data[header]\n",
    "        data = data.drop(columns=column)\n",
    "    return data        "
   ]
  },
  {
   "cell_type": "code",
   "execution_count": 7,
   "id": "c096981f-ffd9-45ec-9729-bbe4734fc439",
   "metadata": {},
   "outputs": [],
   "source": [
    "with open(\"spb.geojson\", encoding='utf-8') as f:\n",
    "    data = pd.read_json(f)"
   ]
  },
  {
   "cell_type": "code",
   "execution_count": 8,
   "id": "04217e72-e725-443f-a8c7-bc212e53a55b",
   "metadata": {},
   "outputs": [],
   "source": [
    "# извлекаем нужные данные путём нормализации json'a\n",
    "# в несколько этапов - для того, чтобы не было лишних префиксов\n",
    "\n",
    "data = pd.json_normalize(data['features'], sep='_', max_level=0)\n",
    "data = pd.json_normalize(data['properties'], sep='_')"
   ]
  },
  {
   "cell_type": "code",
   "execution_count": 9,
   "id": "e1f2e3ba-31ea-48d0-9cec-de9d6169d680",
   "metadata": {},
   "outputs": [],
   "source": [
    "# удаляем лишние столбцы и фильтруем данные, оставляя связанные с перекрёстками (согласно схемам)\n",
    "\n",
    "cutted = data.drop(columns=['id', 'gibdd_id', 'participant_categories', 'parent_region', 'address', 'vehicles', 'participants', 'tags'])\n",
    "cutted.dropna(inplace=True)\n",
    "scheme_filter = ['100', '110', '120', '130', '300', '310', '320', '340', '400', '410', '420', '430', '440', \n",
    "                 '700', '710', '720', '730', '760', '770', '780']\n",
    "cutted = cutted[cutted.scheme.isin(scheme_filter)]"
   ]
  },
  {
   "cell_type": "code",
   "execution_count": 10,
   "id": "2034d291-f5e7-49e3-aec2-1cedb7067f88",
   "metadata": {},
   "outputs": [],
   "source": [
    "# удаляем всё, что за пределами СПб по координатам\n",
    "\n",
    "lat_min = 59.63\n",
    "lat_max = 60.24\n",
    "long_min = 29.42\n",
    "long_max = 30.76\n",
    "cutted = cutted[(cutted.point_lat > lat_min) & (cutted.point_lat < lat_max) &\n",
    "                (cutted.point_long > long_min) & (cutted.point_long < long_max)]"
   ]
  },
  {
   "cell_type": "code",
   "execution_count": 11,
   "id": "92084ffd-0427-4623-893b-21b69f213f23",
   "metadata": {},
   "outputs": [
    {
     "data": {
      "text/html": [
       "<table border=\"1\" class=\"dataframe\">\n",
       "  <thead>\n",
       "    <tr style=\"text-align: right;\">\n",
       "      <th></th>\n",
       "      <th>severity</th>\n",
       "      <th>region</th>\n",
       "      <th>datetime</th>\n",
       "      <th>participants_count</th>\n",
       "      <th>injured_count</th>\n",
       "      <th>dead_count</th>\n",
       "      <th>category</th>\n",
       "      <th>light</th>\n",
       "      <th>nearby</th>\n",
       "      <th>weather</th>\n",
       "      <th>road_conditions</th>\n",
       "      <th>scheme</th>\n",
       "      <th>point_lat</th>\n",
       "      <th>point_long</th>\n",
       "    </tr>\n",
       "  </thead>\n",
       "  <tbody>\n",
       "    <tr>\n",
       "      <th>39445</th>\n",
       "      <td>Тяжелый</td>\n",
       "      <td>Адмиралтейский район</td>\n",
       "      <td>2017-02-13 14:40:00</td>\n",
       "      <td>2</td>\n",
       "      <td>1</td>\n",
       "      <td>0</td>\n",
       "      <td>Наезд на пешехода</td>\n",
       "      <td>Светлое время суток</td>\n",
       "      <td>[Мост, Регулируемый пешеходный переход]</td>\n",
       "      <td>[Пасмурно]</td>\n",
       "      <td>[Мокрое]</td>\n",
       "      <td><img src=\"https://dtp-stat.ru/static/scheme/700.png\"></td>\n",
       "      <td>59.908300</td>\n",
       "      <td>30.27610</td>\n",
       "    </tr>\n",
       "    <tr>\n",
       "      <th>39446</th>\n",
       "      <td>Легкий</td>\n",
       "      <td>Адмиралтейский район</td>\n",
       "      <td>2017-02-24 21:00:00</td>\n",
       "      <td>2</td>\n",
       "      <td>1</td>\n",
       "      <td>0</td>\n",
       "      <td>Наезд на пешехода</td>\n",
       "      <td>В темное время суток, освещение включено</td>\n",
       "      <td>[Многоквартирные жилые дома, Регулируемый пешеходный переход]</td>\n",
       "      <td>[Пасмурно]</td>\n",
       "      <td>[Мокрое]</td>\n",
       "      <td><img src=\"https://dtp-stat.ru/static/scheme/730.png\"></td>\n",
       "      <td>59.924190</td>\n",
       "      <td>30.30814</td>\n",
       "    </tr>\n",
       "    <tr>\n",
       "      <th>39447</th>\n",
       "      <td>Легкий</td>\n",
       "      <td>Адмиралтейский район</td>\n",
       "      <td>2017-02-21 01:00:00</td>\n",
       "      <td>2</td>\n",
       "      <td>1</td>\n",
       "      <td>0</td>\n",
       "      <td>Наезд на пешехода</td>\n",
       "      <td>Светлое время суток</td>\n",
       "      <td>[Многоквартирные жилые дома, Нерегулируемый пешеходный переход]</td>\n",
       "      <td>[Пасмурно]</td>\n",
       "      <td>[Мокрое]</td>\n",
       "      <td><img src=\"https://dtp-stat.ru/static/scheme/700.png\"></td>\n",
       "      <td>59.914313</td>\n",
       "      <td>30.29749</td>\n",
       "    </tr>\n",
       "  </tbody>\n",
       "</table>"
      ],
      "text/plain": [
       "<IPython.core.display.HTML object>"
      ]
     },
     "metadata": {},
     "output_type": "display_data"
    }
   ],
   "source": [
    "# визуализируем схемы ДТП\n",
    "\n",
    "pd.set_option('display.max_colwidth', None)\n",
    "format_dict = {'scheme': path_to_image_html}\n",
    "display(HTML(cutted.tail(3).to_html(escape=False ,formatters=format_dict)))"
   ]
  },
  {
   "cell_type": "code",
   "execution_count": 12,
   "id": "75504013-b1da-4a6a-a8bb-24acf3b040c9",
   "metadata": {},
   "outputs": [],
   "source": [
    "# преобразуем datetime в месяц, день недели и время\n",
    "\n",
    "datetime = cutted['datetime']\n",
    "month = []\n",
    "day = []\n",
    "time = []\n",
    "for row in datetime:\n",
    "    day.append(pd.to_datetime(row).dayofweek)\n",
    "    row = row.split(' ')\n",
    "    month.append(row[0].split('-')[1])\n",
    "    time.append(row[1])\n",
    "\n",
    "cutted['month'] = month\n",
    "cutted['day'] = day\n",
    "cutted['time'] = time\n",
    "cutted = cutted.drop(columns='datetime')"
   ]
  },
  {
   "cell_type": "code",
   "execution_count": 13,
   "id": "f3dce15f-100d-432c-85af-9726a58839e6",
   "metadata": {},
   "outputs": [],
   "source": [
    "# приводим категориальные переменные к формату числовых с помощью One-Hot кодирования\n",
    "\n",
    "result = pd.get_dummies(cutted, columns=['severity', 'region', 'category', 'light'], prefix=['Тяжесть', 'Район', 'Категория', 'Свет'])\n",
    "result = one_hot_encoding(result, ['weather', 'nearby', 'road_conditions'])"
   ]
  },
  {
   "cell_type": "code",
   "execution_count": 13,
   "id": "7dbad631-8702-4b16-af37-f23186ddae83",
   "metadata": {},
   "outputs": [],
   "source": [
    "result.to_csv('result.csv', index=False)"
   ]
  },
  {
   "cell_type": "code",
   "execution_count": 14,
   "id": "61187b5f-f2d3-445d-bc57-d6257f0b2cda",
   "metadata": {},
   "outputs": [
    {
     "data": {
      "text/plain": [
       "<matplotlib.collections.PathCollection at 0x7f177945bf70>"
      ]
     },
     "execution_count": 14,
     "metadata": {},
     "output_type": "execute_result"
    },
    {
     "data": {
      "image/png": "[encoded data removed]",
      "text/plain": [
       "<Figure size 432x288 with 1 Axes>"
      ]
     },
     "metadata": {
      "needs_background": "light"
     },
     "output_type": "display_data"
    }
   ],
   "source": [
    "# строим карту записей: видно, что охвачен почти весь город\n",
    "\n",
    "x = result[['point_lat', 'point_long']].round(4)\n",
    "# transformer = Normalizer().fit(x)\n",
    "# normalized = transformer.transform(x)\n",
    "plt.scatter(x['point_long'], x['point_lat'])"
   ]
  },
  {
   "cell_type": "code",
   "execution_count": null,
   "id": "8347f203-0435-4de2-a22e-acaf4c27c7a6",
   "metadata": {},
   "outputs": [],
   "source": [
    "time = [int(t[:2]) for t in time]"
   ]
  },
  {
   "cell_type": "code",
   "execution_count": 37,
   "id": "a28eeea9-1444-40e5-a1e1-349f30224ee8",
   "metadata": {},
   "outputs": [
    {
     "data": {
      "text/plain": [
       "[Text(0.5, 1.0, 'Crashes per hour'),\n",
       " Text(0.5, 0, 'Hour'),\n",
       " Text(0, 0.5, 'Total count')]"
      ]
     },
     "execution_count": 37,
     "metadata": {},
     "output_type": "execute_result"
    },
    {
     "data": {
      "image/png": "[encoded data removed]",
      "text/plain": [
       "<Figure size 432x288 with 1 Axes>"
      ]
     },
     "metadata": {
      "needs_background": "light"
     },
     "output_type": "display_data"
    }
   ],
   "source": [
    "# график количества ДТП в разное время (округлено до часов): к вечеру их число возрастает\n",
    "sns.histplot(data=time).set(title='Crashes per hour', xlabel='Hour', ylabel='Total count')"
   ]
  },
  {
   "cell_type": "code",
   "execution_count": 42,
   "id": "978c441e-e656-4450-a919-ef9fbd27712a",
   "metadata": {},
   "outputs": [
    {
     "data": {
      "text/plain": [
       "[Text(0.5, 1.0, 'Week statistic'),\n",
       " Text(0.5, 0, 'Hour of week'),\n",
       " Text(0, 0.5, 'Total count')]"
      ]
     },
     "execution_count": 42,
     "metadata": {},
     "output_type": "execute_result"
    },
    {
     "data": {
      "image/png": "[encoded data removed]",
      "text/plain": [
       "<Figure size 432x288 with 1 Axes>"
      ]
     },
     "metadata": {
      "needs_background": "light"
     },
     "output_type": "display_data"
    }
   ],
   "source": [
    "# недельная статистика ДТП: по выходным в среднем аварий меньше, но выделяются ночи пт/сб и вс/пн\n",
    "\n",
    "daily_stat = [cutted[cutted.day == x] for x in range(7)]\n",
    "daily_time = np.zeros(len(day))\n",
    "for i in range(len(day)):\n",
    "    daily_time[i] = time[i] + day[i]*24\n",
    "sns.histplot(data=daily_time, bins=8*7).set(title='Week statistic', \n",
    "                                            xlabel='Hour of week', ylabel='Total count')"
   ]
  },
  {
   "cell_type": "code",
   "execution_count": null,
   "id": "e2f383e1-02cc-4ebc-95c6-183e31856b1a",
   "metadata": {},
   "outputs": [],
   "source": []
  }
 ],
 "metadata": {
  "kernelspec": {
   "display_name": "Python 3 (ipykernel)",
   "language": "python",
   "name": "python3"
  },
  "language_info": {
   "codemirror_mode": {
    "name": "ipython",
    "version": 3
   },
   "file_extension": ".py",
   "mimetype": "text/x-python",
   "name": "python",
   "nbconvert_exporter": "python",
   "pygments_lexer": "ipython3",
   "version": "3.8.10"
  }
 },
 "nbformat": 4,
 "nbformat_minor": 5
}
